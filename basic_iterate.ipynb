{
 "cells": [
  {
   "cell_type": "markdown",
   "metadata": {},
   "source": [
    "### The Fibonacci Sequence\n",
    "\n",
    "Remember that the Fibonacci sequence is calcualted by taking intial terms $F_0 = 1, F_1 = 1$, and then applying the rule $F_{i+1} = F_{i} + F_{i - 1}$. \n",
    "\n",
    "1) Caclulate the Fibonnaci sequence $F_i$, for values of $i$ going from 0 to 20, and save the values in a *list*, using the append method to add successive values."
   ]
  },
  {
   "cell_type": "code",
   "execution_count": 3,
   "metadata": {},
   "outputs": [
    {
     "name": "stdout",
     "output_type": "stream",
     "text": [
      "There are 20 elements which index from 0 to 20\n",
      "[1, 1, 2, 3, 5, 8, 13, 21, 34, 55, 89, 144, 233, 377, 610, 987, 1597, 2584, 4181, 6765, 10946]\n"
     ]
    }
   ],
   "source": [
    "# F_0 = 1 and F_1 = 1\n",
    "F = [1,1]\n",
    "for i in range(1,20):\n",
    "    # i starts from 1+1 = 2 to 18 due to there are two elements in the list\n",
    "    F.append(F[i] + F[i-1])\n",
    "s = \"There are {0} elements which index from 0 to {0}\"\n",
    "print(s.format(len(F)-1))\n",
    "print(F)"
   ]
  },
  {
   "cell_type": "markdown",
   "metadata": {},
   "source": [
    "2) Now repeat this calculation, but save the results in an array (note there are several ways to do this)."
   ]
  },
  {
   "cell_type": "code",
   "execution_count": 4,
   "metadata": {},
   "outputs": [
    {
     "name": "stdout",
     "output_type": "stream",
     "text": [
      "There are 20 elements which index from 0 to 20\n",
      "[    1     1     2     3     5     8    13    21    34    55    89   144\n",
      "   233   377   610   987  1597  2584  4181  6765 10946]\n",
      "[ True  True  True  True  True  True  True  True  True  True  True  True\n",
      "  True  True  True  True  True  True  True  True  True]\n"
     ]
    }
   ],
   "source": [
    "import numpy\n",
    "# Create a array with 20 elements\n",
    "F_A = numpy.zeros(21,int)\n",
    "# F_0 = 1 and F_1 = 1\n",
    "F_A[0] = 1\n",
    "F_A[1] = 1\n",
    "for i in range(1,20):\n",
    "    # i starts from 1+1 = 2 to 18 due to there are two elements in the list\n",
    "    F_A[i+1] = F_A[i] + F_A[i-1]\n",
    "s = \"There are {0} elements which index from 0 to {0}\"\n",
    "print(s.format(len(F_A)-1))\n",
    "print(F_A)\n",
    "print(F_A == numpy.array(F))"
   ]
  },
  {
   "cell_type": "markdown",
   "metadata": {},
   "source": [
    "3) Now take the ratio of successive terms \n",
    "$$R_i = {{F_{i+1}}\\over{F_{i}}}.$$ \n",
    "and save this in an array.\n"
   ]
  },
  {
   "cell_type": "code",
   "execution_count": 8,
   "metadata": {},
   "outputs": [
    {
     "name": "stdout",
     "output_type": "stream",
     "text": [
      "[1.         2.         1.5        1.66666667 1.6        1.625\n",
      " 1.61538462 1.61904762 1.61764706 1.61818182 1.61797753 1.61805556\n",
      " 1.61802575 1.61803714 1.61803279 1.61803445 1.61803381 1.61803406\n",
      " 1.61803396 1.618034   1.61803399]\n"
     ]
    }
   ],
   "source": [
    "# Create a array with 20 elements\n",
    "R = numpy.zeros(21,float)\n",
    "# Calculate the R for each term\n",
    "for i in range(21):\n",
    "    if i == 20:\n",
    "        R[i] = (F_A[i] + F_A[i-1]) / F[i]\n",
    "    else:\n",
    "        R[i] = F[i+1] / F[i]\n",
    "print(R)"
   ]
  },
  {
   "cell_type": "markdown",
   "metadata": {},
   "source": [
    "4) Use the function *open()* discussed in class to open a file for writing. Write the values $i, F_i, F_{i+1},$ and $R_i$ to a file, one set per line. Close the file when you are done."
   ]
  },
  {
   "cell_type": "code",
   "execution_count": 9,
   "metadata": {},
   "outputs": [],
   "source": [
    "fout = open(\"Fibonacci.txt\",'w')\n",
    "for i in range(21):\n",
    "    if i == 20:\n",
    "        s = \"{0} {1} {2} {3}\\n\"\n",
    "        fout.write(s.format(i,F[i],F_A[i] + F_A[i-1],R[i]))\n",
    "    else:\n",
    "        s = \"{0} {1} {2} {3}\\n\"\n",
    "        fout.write(s.format(i,F[i],F[i+1],R[i]))\n",
    "fout.close()"
   ]
  },
  {
   "cell_type": "markdown",
   "metadata": {},
   "source": [
    "5) Re-open the file and read the values from it into a (single) array, using the function *loadtxt()*."
   ]
  },
  {
   "cell_type": "code",
   "execution_count": 10,
   "metadata": {},
   "outputs": [
    {
     "name": "stdout",
     "output_type": "stream",
     "text": [
      "[[0.00000000e+00 1.00000000e+00 1.00000000e+00 1.00000000e+00]\n",
      " [1.00000000e+00 1.00000000e+00 2.00000000e+00 2.00000000e+00]\n",
      " [2.00000000e+00 2.00000000e+00 3.00000000e+00 1.50000000e+00]\n",
      " [3.00000000e+00 3.00000000e+00 5.00000000e+00 1.66666667e+00]\n",
      " [4.00000000e+00 5.00000000e+00 8.00000000e+00 1.60000000e+00]\n",
      " [5.00000000e+00 8.00000000e+00 1.30000000e+01 1.62500000e+00]\n",
      " [6.00000000e+00 1.30000000e+01 2.10000000e+01 1.61538462e+00]\n",
      " [7.00000000e+00 2.10000000e+01 3.40000000e+01 1.61904762e+00]\n",
      " [8.00000000e+00 3.40000000e+01 5.50000000e+01 1.61764706e+00]\n",
      " [9.00000000e+00 5.50000000e+01 8.90000000e+01 1.61818182e+00]\n",
      " [1.00000000e+01 8.90000000e+01 1.44000000e+02 1.61797753e+00]\n",
      " [1.10000000e+01 1.44000000e+02 2.33000000e+02 1.61805556e+00]\n",
      " [1.20000000e+01 2.33000000e+02 3.77000000e+02 1.61802575e+00]\n",
      " [1.30000000e+01 3.77000000e+02 6.10000000e+02 1.61803714e+00]\n",
      " [1.40000000e+01 6.10000000e+02 9.87000000e+02 1.61803279e+00]\n",
      " [1.50000000e+01 9.87000000e+02 1.59700000e+03 1.61803445e+00]\n",
      " [1.60000000e+01 1.59700000e+03 2.58400000e+03 1.61803381e+00]\n",
      " [1.70000000e+01 2.58400000e+03 4.18100000e+03 1.61803406e+00]\n",
      " [1.80000000e+01 4.18100000e+03 6.76500000e+03 1.61803396e+00]\n",
      " [1.90000000e+01 6.76500000e+03 1.09460000e+04 1.61803400e+00]\n",
      " [2.00000000e+01 1.09460000e+04 1.77110000e+04 1.61803399e+00]]\n"
     ]
    }
   ],
   "source": [
    "read_data = numpy.loadtxt(\"Fibonacci.txt\",float)\n",
    "print(read_data)"
   ]
  },
  {
   "cell_type": "markdown",
   "metadata": {},
   "source": [
    "6) Plot $F_i$ versus $i$. "
   ]
  },
  {
   "cell_type": "code",
   "execution_count": 11,
   "metadata": {},
   "outputs": [
    {
     "data": {
      "image/png": "[encoded data removed]",
      "text/plain": [
       "<Figure size 432x288 with 1 Axes>"
      ]
     },
     "metadata": {
      "needs_background": "light"
     },
     "output_type": "display_data"
    }
   ],
   "source": [
    "from matplotlib.pyplot import plot, show\n",
    "x = read_data[:,0]\n",
    "y = read_data[:,1]\n",
    "plot(x,y)\n",
    "show()"
   ]
  },
  {
   "cell_type": "markdown",
   "metadata": {},
   "source": [
    "7) Note the values of $R_i$ quickly get very large. Make a log (y-axis) - linear (x-axis) plot to display the result more sensibly. "
   ]
  },
  {
   "cell_type": "code",
   "execution_count": 12,
   "metadata": {},
   "outputs": [
    {
     "data": {
      "image/png": "[encoded data removed]",
      "text/plain": [
       "<Figure size 432x288 with 1 Axes>"
      ]
     },
     "metadata": {
      "needs_background": "light"
     },
     "output_type": "display_data"
    }
   ],
   "source": [
    "import numpy\n",
    "x = read_data[:,0]\n",
    "y = numpy.log(read_data[:,1])\n",
    "plot(x,y)\n",
    "show()"
   ]
  },
  {
   "cell_type": "markdown",
   "metadata": {},
   "source": [
    "8) Plot the ratio $R_i$ versus $i$. Plot it as a set of black points, joined by a dashed red line. You should see the ratio quickly converges to a particular value. (If you're interested, you can look up what this value and its significance is.)"
   ]
  },
  {
   "cell_type": "code",
   "execution_count": 13,
   "metadata": {},
   "outputs": [
    {
     "data": {
      "image/png": "[encoded data removed]",
      "text/plain": [
       "<Figure size 432x288 with 1 Axes>"
      ]
     },
     "metadata": {
      "needs_background": "light"
     },
     "output_type": "display_data"
    }
   ],
   "source": [
    "x = read_data[:,0]\n",
    "y = read_data[:,3]\n",
    "plot(x,y,'--',color='red',marker='o',markeredgecolor='black',markerfacecolor='black')\n",
    "show()\n",
    "# the value converges to 1.618... which is the golden ratio value"
   ]
  },
  {
   "cell_type": "code",
   "execution_count": null,
   "metadata": {},
   "outputs": [],
   "source": []
  }
 ],
 "metadata": {
  "kernelspec": {
   "display_name": "Python 3 (ipykernel)",
   "language": "python",
   "name": "python3"
  },
  "language_info": {
   "codemirror_mode": {
    "name": "ipython",
    "version": 3
   },
   "file_extension": ".py",
   "mimetype": "text/x-python",
   "name": "python",
   "nbconvert_exporter": "python",
   "pygments_lexer": "ipython3",
   "version": "3.9.12"
  }
 },
 "nbformat": 4,
 "nbformat_minor": 2
}
